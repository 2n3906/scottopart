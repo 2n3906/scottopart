{
 "cells": [
  {
   "cell_type": "markdown",
   "metadata": {},
   "source": [
    "# Capacitor sourcing workbook\n",
    "\n",
    "Use this workflow to build a robust standard capacitor library that is resilient to marketplace fluctuation."
   ]
  },
  {
   "cell_type": "code",
   "execution_count": 163,
   "metadata": {},
   "outputs": [
    {
     "name": "stdout",
     "output_type": "stream",
     "text": [
      "The autoreload extension is already loaded. To reload it, use:\n",
      "  %reload_ext autoreload\n"
     ]
    }
   ],
   "source": [
    "%load_ext autoreload\n",
    "import sys\n",
    "import octopart\n",
    "sys.path.append(\"../\")\n",
    "import scottopart.constants\n",
    "import scottopart.mpnmagic.capacitors\n",
    "\n",
    "octopart.logger.setLevel(20)  # disable annoying debug logs"
   ]
  },
  {
   "cell_type": "code",
   "execution_count": 164,
   "metadata": {},
   "outputs": [
    {
     "name": "stdout",
     "output_type": "stream",
     "text": [
      "0603 4.7e-09\n"
     ]
    }
   ],
   "source": [
    "authorized_capacitor_manufacturers = ['TDK', 'Murata', 'Yageo', 'KEMET', 'Taiyo Yuden', 'Samsung', 'AVX']\n",
    "authorized_sellers = ['Digi-Key', 'Newark', 'Mouser', 'Avnet', 'Arrow Electronics, Inc.']\n",
    "authorized_country_codes = ['US']\n",
    "authorized_packaging = ['Cut Tape', 'Tape & Reel', 'None']\n",
    "query_package = ['0603']\n",
    "query_capacitance = [4.7e-9]\n",
    "\n",
    "for case_package in query_package:\n",
    "    for capacitance in query_capacitance:\n",
    "        print(case_package, capacitance)"
   ]
  },
  {
   "cell_type": "code",
   "execution_count": 165,
   "metadata": {},
   "outputs": [],
   "source": [
    "# We would do this if we can, but the octopart Python API\n",
    "# won't accept a list for manufacturer.displayname.  So this\n",
    "# is a work-around.\n",
    "#filter = {\n",
    "#    'manufacturer.displayname' : ['Murata', 'TDK', 'etc.']\n",
    "#    'specs.case_package.value' : '0603',\n",
    "#    'specs.capacitance.value'  : '4.7e-9'\n",
    "#}\n",
    "#r = octopart.search(query='', limit=100, filter_fields=filter, include_specs=True)\n",
    "\n",
    "c = octopart.client.OctopartClient()\n",
    "params = {\n",
    "        'q': '', # leave blank\n",
    "        'filter[fields][manufacturer.displayname][]': authorized_capacitor_manufacturers,\n",
    "        'filter[fields][specs.capacitance.value][]': capacitance,\n",
    "        'filter[fields][specs.case_package.value][]': case_package,\n",
    "        'limit' : 100,\n",
    "        'include[]' : 'specs',\n",
    "}\n",
    "r = octopart.models.PartsSearchResult(c._request('/parts/search', params=params))"
   ]
  },
  {
   "cell_type": "code",
   "execution_count": 166,
   "metadata": {},
   "outputs": [
    {
     "data": {
      "text/plain": [
       "<PartsSearchResult: hits=522>"
      ]
     },
     "execution_count": 166,
     "metadata": {},
     "output_type": "execute_result"
    }
   ],
   "source": [
    "r"
   ]
  },
  {
   "cell_type": "code",
   "execution_count": 230,
   "metadata": {},
   "outputs": [],
   "source": [
    "# TODO: pick up authorized_* from a more sensible location\n",
    "# TODO: figure out Digi-Key double-counting of in-stock quantity\n",
    "def authorized_in_stock_qty(part):\n",
    "    \"\"\"Useful as a sorting key for a list of Part objects.\"\"\"\n",
    "    filtered_offers = [o for o in part.offers if o.seller in authorized_sellers and o.packaging in authorized_packaging]\n",
    "    return sum([o.in_stock_quantity for o in filtered_offers])"
   ]
  },
  {
   "cell_type": "code",
   "execution_count": 222,
   "metadata": {},
   "outputs": [],
   "source": [
    "sorted_parts = sorted(r.parts, key=authorized_in_stock_qty, reverse=True)"
   ]
  },
  {
   "cell_type": "code",
   "execution_count": 242,
   "metadata": {},
   "outputs": [
    {
     "name": "stdout",
     "output_type": "stream",
     "text": [
      "<Part mpn=GRM033R61A472KA01D> 330000 {'manufacturer_series': 'GRM', 'case_package': '0201', 'size_thickness': '0.3 mm', 'dielectric_characteristic': 'X5R', 'voltage_rating_dc': 10, 'capacitance': 4.7e-09, 'capacitance_tolerance': '10%', 'spec_code': 'A01', 'packaging_code': 'D', 'manufacturer': 'Murata'}\n",
      "<Part mpn=GRM033R71A472KA01D> 315000 {'manufacturer_series': 'GRM', 'case_package': '0201', 'size_thickness': '0.3 mm', 'dielectric_characteristic': 'X7R', 'voltage_rating_dc': 10, 'capacitance': 4.7e-09, 'capacitance_tolerance': '10%', 'spec_code': 'A01', 'packaging_code': 'D', 'manufacturer': 'Murata'}\n",
      "<Part mpn=C0603C472J5RACTU> 172595 {'case_package': '0603', 'manufacturer_series': 'C', 'capacitance': 4.7e-09, 'capacitance_tolerance': '5%', 'voltage_rating_dc': 50, 'dielectric_characteristic': 'X7R', 'reliability_code': 'A', 'plating_code': 'C', 'packaging_code': 'TU', 'manufacturer': 'Kemet'}\n",
      "<Part mpn=GCM188R71H472KA37J> 163756 {'manufacturer_series': 'GCM', 'case_package': '0603', 'size_thickness': '0.8 mm', 'dielectric_characteristic': 'X7R', 'voltage_rating_dc': 50, 'capacitance': 4.7e-09, 'capacitance_tolerance': '10%', 'spec_code': 'A37', 'packaging_code': 'J', 'manufacturer': 'Murata'}\n",
      "<Part mpn=GRM033R61E472KA12D> 118049 {'manufacturer_series': 'GRM', 'case_package': '0201', 'size_thickness': '0.3 mm', 'dielectric_characteristic': 'X5R', 'voltage_rating_dc': 25, 'capacitance': 4.7e-09, 'capacitance_tolerance': '10%', 'spec_code': 'A12', 'packaging_code': 'D', 'manufacturer': 'Murata'}\n",
      "<Part mpn=C0603C472K5RACTU> 106216 {'case_package': '0603', 'manufacturer_series': 'C', 'capacitance': 4.7e-09, 'capacitance_tolerance': '10%', 'voltage_rating_dc': 50, 'dielectric_characteristic': 'X7R', 'reliability_code': 'A', 'plating_code': 'C', 'packaging_code': 'TU', 'manufacturer': 'Kemet'}\n",
      "<Part mpn=C0603C472J1GACTU> 98803 {'case_package': '0603', 'manufacturer_series': 'C', 'capacitance': 4.7e-09, 'capacitance_tolerance': '5%', 'voltage_rating_dc': 100, 'dielectric_characteristic': 'C0G/NP0', 'reliability_code': 'A', 'plating_code': 'C', 'packaging_code': 'TU', 'manufacturer': 'Kemet'}\n",
      "<Part mpn=CL10B472KB8NNNC> 97218 {'manufacturer_series': 'CL', 'case_package': '0603', 'dielectric_characteristic': 'X7R', 'capacitance': 4.7e-09, 'capacitance_tolerance': '10%', 'voltage_rating_dc': 50, 'size_thickness': '0.8 mm', 'plating_code': 'N', 'control_code': 'N', 'packaging_code': 'C', 'manufacturer': 'Samsung'}\n",
      "<Part mpn=C1608C0G1H472J080AA> 88528 {'manufacturer_series': 'C', 'case_package': '0603', 'dielectric_characteristic': 'C0G/NP0', 'voltage_rating_dc': 50, 'capacitance': 4.7e-09, 'capacitance_tolerance': '5%', 'size_thickness': '080', 'packaging_code': 'A', 'control_code': 'A', 'manufacturer': 'TDK'}\n",
      "<Part mpn=C0603C472F5GACTU> 87758 {'case_package': '0603', 'manufacturer_series': 'C', 'capacitance': 4.7e-09, 'capacitance_tolerance': 'F', 'voltage_rating_dc': 50, 'dielectric_characteristic': 'C0G/NP0', 'reliability_code': 'A', 'plating_code': 'C', 'packaging_code': 'TU', 'manufacturer': 'Kemet'}\n",
      "<Part mpn=C0603C472K3RACTU> 84694 {'case_package': '0603', 'manufacturer_series': 'C', 'capacitance': 4.7e-09, 'capacitance_tolerance': '10%', 'voltage_rating_dc': 25, 'dielectric_characteristic': 'X7R', 'reliability_code': 'A', 'plating_code': 'C', 'packaging_code': 'TU', 'manufacturer': 'Kemet'}\n",
      "<Part mpn=C0603C472J5GACTU> 81954 {'case_package': '0603', 'manufacturer_series': 'C', 'capacitance': 4.7e-09, 'capacitance_tolerance': '5%', 'voltage_rating_dc': 50, 'dielectric_characteristic': 'C0G/NP0', 'reliability_code': 'A', 'plating_code': 'C', 'packaging_code': 'TU', 'manufacturer': 'Kemet'}\n",
      "<Part mpn=GRM1885C1H472JA01D> 80198 {'manufacturer_series': 'GRM', 'case_package': '0603', 'size_thickness': '0.8 mm', 'dielectric_characteristic': 'C0G/NP0', 'voltage_rating_dc': 50, 'capacitance': 4.7e-09, 'capacitance_tolerance': '5%', 'spec_code': 'A01', 'packaging_code': 'D', 'manufacturer': 'Murata'}\n",
      "<Part mpn=GCM188R71H472KA37D> 80039 {'manufacturer_series': 'GCM', 'case_package': '0603', 'size_thickness': '0.8 mm', 'dielectric_characteristic': 'X7R', 'voltage_rating_dc': 50, 'capacitance': 4.7e-09, 'capacitance_tolerance': '10%', 'spec_code': 'A37', 'packaging_code': 'D', 'manufacturer': 'Murata'}\n",
      "<Part mpn=GCM188R72A472KA37D> 80023 {'manufacturer_series': 'GCM', 'case_package': '0603', 'size_thickness': '0.8 mm', 'dielectric_characteristic': 'X7R', 'voltage_rating_dc': 100, 'capacitance': 4.7e-09, 'capacitance_tolerance': '10%', 'spec_code': 'A37', 'packaging_code': 'D', 'manufacturer': 'Murata'}\n",
      "<Part mpn=C1608C0G1E472J080AA> 80014 {'manufacturer_series': 'C', 'case_package': '0603', 'dielectric_characteristic': 'C0G/NP0', 'voltage_rating_dc': 25, 'capacitance': 4.7e-09, 'capacitance_tolerance': '5%', 'size_thickness': '080', 'packaging_code': 'A', 'control_code': 'A', 'manufacturer': 'TDK'}\n",
      "<Part mpn=CGA3E2X7R1H472K080AA> 80000 None\n",
      "<Part mpn=C0603C472K5GACTU> 72296 {'case_package': '0603', 'manufacturer_series': 'C', 'capacitance': 4.7e-09, 'capacitance_tolerance': '10%', 'voltage_rating_dc': 50, 'dielectric_characteristic': 'C0G/NP0', 'reliability_code': 'A', 'plating_code': 'C', 'packaging_code': 'TU', 'manufacturer': 'Kemet'}\n",
      "<Part mpn=GRM033R70J472KA01D> 72261 {'manufacturer_series': 'GRM', 'case_package': '0201', 'size_thickness': '0.3 mm', 'dielectric_characteristic': 'X7R', 'voltage_rating_dc': 6.3, 'capacitance': 4.7e-09, 'capacitance_tolerance': '10%', 'spec_code': 'A01', 'packaging_code': 'D', 'manufacturer': 'Murata'}\n",
      "<Part mpn=C0603C472K1RACTU> 53422 {'case_package': '0603', 'manufacturer_series': 'C', 'capacitance': 4.7e-09, 'capacitance_tolerance': '10%', 'voltage_rating_dc': 100, 'dielectric_characteristic': 'X7R', 'reliability_code': 'A', 'plating_code': 'C', 'packaging_code': 'TU', 'manufacturer': 'Kemet'}\n",
      "<Part mpn=C0603C472K2RACTU> 52877 {'case_package': '0603', 'manufacturer_series': 'C', 'capacitance': 4.7e-09, 'capacitance_tolerance': '10%', 'voltage_rating_dc': 200, 'dielectric_characteristic': 'X7R', 'reliability_code': 'A', 'plating_code': 'C', 'packaging_code': 'TU', 'manufacturer': 'Kemet'}\n",
      "<Part mpn=GCJ188R71H472KA01D> 48298 None\n",
      "<Part mpn=C0603C472K5HACTU> 41713 {'case_package': '0603', 'manufacturer_series': 'C', 'capacitance': 4.7e-09, 'capacitance_tolerance': '10%', 'voltage_rating_dc': 50, 'dielectric_characteristic': 'X8R', 'reliability_code': 'A', 'plating_code': 'C', 'packaging_code': 'TU', 'manufacturer': 'Kemet'}\n",
      "<Part mpn=06031C472KAZ2A> 37526 {'case_package': '0603', 'voltage_rating_dc': 100, 'dielectric_characteristic': 'X7R', 'capacitance': 4.7e-09, 'capacitance_tolerance': '10%', 'reliability_code': 'A', 'plating_code': 'Z', 'packaging_code': '2', 'special_code': 'A', 'manufacturer': 'AVX'}\n",
      "<Part mpn=C0603C472K5HACAUTO> 35620 {'case_package': '0603', 'manufacturer_series': 'C', 'capacitance': 4.7e-09, 'capacitance_tolerance': '10%', 'voltage_rating_dc': 50, 'dielectric_characteristic': 'X8R', 'reliability_code': 'A', 'plating_code': 'C', 'packaging_code': 'AUTO', 'manufacturer': 'Kemet'}\n",
      "<Part mpn=C0603C472K2RACAUTO> 34317 {'case_package': '0603', 'manufacturer_series': 'C', 'capacitance': 4.7e-09, 'capacitance_tolerance': '10%', 'voltage_rating_dc': 200, 'dielectric_characteristic': 'X7R', 'reliability_code': 'A', 'plating_code': 'C', 'packaging_code': 'AUTO', 'manufacturer': 'Kemet'}\n",
      "<Part mpn=C0603C472K4RACTU> 33009 {'case_package': '0603', 'manufacturer_series': 'C', 'capacitance': 4.7e-09, 'capacitance_tolerance': '10%', 'voltage_rating_dc': 16, 'dielectric_characteristic': 'X7R', 'reliability_code': 'A', 'plating_code': 'C', 'packaging_code': 'TU', 'manufacturer': 'Kemet'}\n",
      "<Part mpn=CGA3E2X7R2A472K080AA> 31705 None\n",
      "<Part mpn=06035C472KAZ2A> 30911 {'case_package': '0603', 'voltage_rating_dc': 50, 'dielectric_characteristic': 'X7R', 'capacitance': 4.7e-09, 'capacitance_tolerance': '10%', 'reliability_code': 'A', 'plating_code': 'Z', 'packaging_code': '2', 'special_code': 'A', 'manufacturer': 'AVX'}\n",
      "<Part mpn=C0603H472J1GACTU> 27750 {'case_package': '0603', 'manufacturer_series': 'H', 'capacitance': 4.7e-09, 'capacitance_tolerance': '5%', 'voltage_rating_dc': 100, 'dielectric_characteristic': 'C0G/NP0', 'reliability_code': 'A', 'plating_code': 'C', 'packaging_code': 'TU', 'manufacturer': 'Kemet'}\n",
      "<Part mpn=C0603C472K5RAC7411> 26388 {'case_package': '0603', 'manufacturer_series': 'C', 'capacitance': 4.7e-09, 'capacitance_tolerance': '10%', 'voltage_rating_dc': 50, 'dielectric_characteristic': 'X7R', 'reliability_code': 'A', 'plating_code': 'C', 'packaging_code': None, 'manufacturer': 'Kemet'}\n",
      "<Part mpn=C0603C472K1RACAUTO> 21079 {'case_package': '0603', 'manufacturer_series': 'C', 'capacitance': 4.7e-09, 'capacitance_tolerance': '10%', 'voltage_rating_dc': 100, 'dielectric_characteristic': 'X7R', 'reliability_code': 'A', 'plating_code': 'C', 'packaging_code': 'AUTO', 'manufacturer': 'Kemet'}\n",
      "<Part mpn=06033C472KAT2A> 20495 {'case_package': '0603', 'voltage_rating_dc': 25, 'dielectric_characteristic': 'X7R', 'capacitance': 4.7e-09, 'capacitance_tolerance': '10%', 'reliability_code': 'A', 'plating_code': 'T', 'packaging_code': '2', 'special_code': 'A', 'manufacturer': 'AVX'}\n",
      "<Part mpn=C0603C472KARACAUTO> 19953 {'case_package': '0603', 'manufacturer_series': 'C', 'capacitance': 4.7e-09, 'capacitance_tolerance': '10%', 'voltage_rating_dc': 250, 'dielectric_characteristic': 'X7R', 'reliability_code': 'A', 'plating_code': 'C', 'packaging_code': 'AUTO', 'manufacturer': 'Kemet'}\n",
      "<Part mpn=C0603X472K1RACAUTO> 18740 {'case_package': '0603', 'manufacturer_series': 'X', 'capacitance': 4.7e-09, 'capacitance_tolerance': '10%', 'voltage_rating_dc': 100, 'dielectric_characteristic': 'X7R', 'reliability_code': 'A', 'plating_code': 'C', 'packaging_code': 'AUTO', 'manufacturer': 'Kemet'}\n",
      "<Part mpn=C0603X472K5RACTU> 17524 {'case_package': '0603', 'manufacturer_series': 'X', 'capacitance': 4.7e-09, 'capacitance_tolerance': '10%', 'voltage_rating_dc': 50, 'dielectric_characteristic': 'X7R', 'reliability_code': 'A', 'plating_code': 'C', 'packaging_code': 'TU', 'manufacturer': 'Kemet'}\n",
      "<Part mpn=06031C472JAT2A> 16223 {'case_package': '0603', 'voltage_rating_dc': 100, 'dielectric_characteristic': 'X7R', 'capacitance': 4.7e-09, 'capacitance_tolerance': '5%', 'reliability_code': 'A', 'plating_code': 'T', 'packaging_code': '2', 'special_code': 'A', 'manufacturer': 'AVX'}\n",
      "<Part mpn=06031C472K4Z2A> 16101 {'case_package': '0603', 'voltage_rating_dc': 100, 'dielectric_characteristic': 'X7R', 'capacitance': 4.7e-09, 'capacitance_tolerance': '10%', 'reliability_code': '4', 'plating_code': 'Z', 'packaging_code': '2', 'special_code': 'A', 'manufacturer': 'AVX'}\n",
      "<Part mpn=06031C472MAT2A> 16000 {'case_package': '0603', 'voltage_rating_dc': 100, 'dielectric_characteristic': 'X7R', 'capacitance': 4.7e-09, 'capacitance_tolerance': '20%', 'reliability_code': 'A', 'plating_code': 'T', 'packaging_code': '2', 'special_code': 'A', 'manufacturer': 'AVX'}\n",
      "<Part mpn=GRM1857U1H472JA44D> 15582 {'manufacturer_series': 'GRM', 'case_package': '0603', 'size_thickness': '0.5 mm', 'dielectric_characteristic': 'U2J', 'voltage_rating_dc': 50, 'capacitance': 4.7e-09, 'capacitance_tolerance': '5%', 'spec_code': 'A44', 'packaging_code': 'D', 'manufacturer': 'Murata'}\n",
      "<Part mpn=C0603C472J1RACTU> 14830 {'case_package': '0603', 'manufacturer_series': 'C', 'capacitance': 4.7e-09, 'capacitance_tolerance': '5%', 'voltage_rating_dc': 100, 'dielectric_characteristic': 'X7R', 'reliability_code': 'A', 'plating_code': 'C', 'packaging_code': 'TU', 'manufacturer': 'Kemet'}\n",
      "<Part mpn=GCM033R71A472KA03D> 14800 {'manufacturer_series': 'GCM', 'case_package': '0201', 'size_thickness': '0.3 mm', 'dielectric_characteristic': 'X7R', 'voltage_rating_dc': 10, 'capacitance': 4.7e-09, 'capacitance_tolerance': '10%', 'spec_code': 'A03', 'packaging_code': 'D', 'manufacturer': 'Murata'}\n",
      "<Part mpn=CGA3E2C0G1H472J080AA> 13696 None\n",
      "<Part mpn=CEU3E2X7R1H472K080AE> 13442 None\n",
      "<Part mpn=C1608CH1H472J080AA> 12807 {'manufacturer_series': 'C', 'case_package': '0603', 'dielectric_characteristic': 'CH', 'voltage_rating_dc': 50, 'capacitance': 4.7e-09, 'capacitance_tolerance': '5%', 'size_thickness': '080', 'packaging_code': 'A', 'control_code': 'A', 'manufacturer': 'TDK'}\n",
      "<Part mpn=0603ZC472MAT2A> 12000 {'case_package': '0603', 'voltage_rating_dc': 10, 'dielectric_characteristic': 'X7R', 'capacitance': 4.7e-09, 'capacitance_tolerance': '20%', 'reliability_code': 'A', 'plating_code': 'T', 'packaging_code': '2', 'special_code': 'A', 'manufacturer': 'AVX'}\n",
      "<Part mpn=06031C472K4T2A> 11949 {'case_package': '0603', 'voltage_rating_dc': 100, 'dielectric_characteristic': 'X7R', 'capacitance': 4.7e-09, 'capacitance_tolerance': '10%', 'reliability_code': '4', 'plating_code': 'T', 'packaging_code': '2', 'special_code': 'A', 'manufacturer': 'AVX'}\n",
      "<Part mpn=06035C472JAT2A> 10659 {'case_package': '0603', 'voltage_rating_dc': 50, 'dielectric_characteristic': 'X7R', 'capacitance': 4.7e-09, 'capacitance_tolerance': '5%', 'reliability_code': 'A', 'plating_code': 'T', 'packaging_code': '2', 'special_code': 'A', 'manufacturer': 'AVX'}\n",
      "<Part mpn=06035C472K4T4A> 10199 {'case_package': '0603', 'voltage_rating_dc': 50, 'dielectric_characteristic': 'X7R', 'capacitance': 4.7e-09, 'capacitance_tolerance': '10%', 'reliability_code': '4', 'plating_code': 'T', 'packaging_code': '4', 'special_code': 'A', 'manufacturer': 'AVX'}\n",
      "<Part mpn=C0603C472F3GACTU> 9456 {'case_package': '0603', 'manufacturer_series': 'C', 'capacitance': 4.7e-09, 'capacitance_tolerance': 'F', 'voltage_rating_dc': 25, 'dielectric_characteristic': 'C0G/NP0', 'reliability_code': 'A', 'plating_code': 'C', 'packaging_code': 'TU', 'manufacturer': 'Kemet'}\n",
      "<Part mpn=C0603C472J1GACAUTO> 9024 {'case_package': '0603', 'manufacturer_series': 'C', 'capacitance': 4.7e-09, 'capacitance_tolerance': '5%', 'voltage_rating_dc': 100, 'dielectric_characteristic': 'C0G/NP0', 'reliability_code': 'A', 'plating_code': 'C', 'packaging_code': 'AUTO', 'manufacturer': 'Kemet'}\n",
      "<Part mpn=C0603C472M5RACTU> 8963 {'case_package': '0603', 'manufacturer_series': 'C', 'capacitance': 4.7e-09, 'capacitance_tolerance': '20%', 'voltage_rating_dc': 50, 'dielectric_characteristic': 'X7R', 'reliability_code': 'A', 'plating_code': 'C', 'packaging_code': 'TU', 'manufacturer': 'Kemet'}\n",
      "<Part mpn=C0603C472K8RACTU> 8660 {'case_package': '0603', 'manufacturer_series': 'C', 'capacitance': 4.7e-09, 'capacitance_tolerance': '10%', 'voltage_rating_dc': 10, 'dielectric_characteristic': 'X7R', 'reliability_code': 'A', 'plating_code': 'C', 'packaging_code': 'TU', 'manufacturer': 'Kemet'}\n",
      "<Part mpn=C0603Y472K2RACTU> 5956 None\n",
      "<Part mpn=C0603C472J5GACAUTO> 5577 {'case_package': '0603', 'manufacturer_series': 'C', 'capacitance': 4.7e-09, 'capacitance_tolerance': '5%', 'voltage_rating_dc': 50, 'dielectric_characteristic': 'C0G/NP0', 'reliability_code': 'A', 'plating_code': 'C', 'packaging_code': 'AUTO', 'manufacturer': 'Kemet'}\n",
      "<Part mpn=06035C472K4Z2A> 5466 {'case_package': '0603', 'voltage_rating_dc': 50, 'dielectric_characteristic': 'X7R', 'capacitance': 4.7e-09, 'capacitance_tolerance': '10%', 'reliability_code': '4', 'plating_code': 'Z', 'packaging_code': '2', 'special_code': 'A', 'manufacturer': 'AVX'}\n",
      "<Part mpn=C0603C472J1HACTU> 5443 {'case_package': '0603', 'manufacturer_series': 'C', 'capacitance': 4.7e-09, 'capacitance_tolerance': '5%', 'voltage_rating_dc': 100, 'dielectric_characteristic': 'X8R', 'reliability_code': 'A', 'plating_code': 'C', 'packaging_code': 'TU', 'manufacturer': 'Kemet'}\n",
      "<Part mpn=LLL185R71H472MA01L> 4374 None\n",
      "<Part mpn=GRM1887U1H472JA01D> 4346 {'manufacturer_series': 'GRM', 'case_package': '0603', 'size_thickness': '0.8 mm', 'dielectric_characteristic': 'U2J', 'voltage_rating_dc': 50, 'capacitance': 4.7e-09, 'capacitance_tolerance': '5%', 'spec_code': 'A01', 'packaging_code': 'D', 'manufacturer': 'Murata'}\n",
      "<Part mpn=06033C472JAT2A> 4000 {'case_package': '0603', 'voltage_rating_dc': 25, 'dielectric_characteristic': 'X7R', 'capacitance': 4.7e-09, 'capacitance_tolerance': '5%', 'reliability_code': 'A', 'plating_code': 'T', 'packaging_code': '2', 'special_code': 'A', 'manufacturer': 'AVX'}\n",
      "<Part mpn=C0603S472K3RACTU> 4000 None\n",
      "<Part mpn=C0603C472G5GACTU> 4000 {'case_package': '0603', 'manufacturer_series': 'C', 'capacitance': 4.7e-09, 'capacitance_tolerance': 'G', 'voltage_rating_dc': 50, 'dielectric_characteristic': 'C0G/NP0', 'reliability_code': 'A', 'plating_code': 'C', 'packaging_code': 'TU', 'manufacturer': 'Kemet'}\n",
      "<Part mpn=HMK107B7472KA-T> 3984 {'voltage_rating_dc': 100, 'manufacturer_series': 'M', 'plating_code': 'K', 'case_package': '0603', 'dimensional_tolerance_code': None, 'dielectric_characteristic': 'X7R', 'capacitance': 4.7e-09, 'capacitance_tolerance': '10%', 'size_thickness': '0.8 mm', 'special_code': '-', 'packaging_code': 'T', 'manufacturer': 'Taiyo Yuden'}\n",
      "<Part mpn=C0603S472J5RACTU> 3800 None\n",
      "<Part mpn=CC0603MRX7R9BB472> 3675 None\n",
      "<Part mpn=TMK107SD472KA-T> 3600 {'voltage_rating_dc': 25, 'manufacturer_series': 'M', 'plating_code': 'K', 'case_package': '0603', 'dimensional_tolerance_code': None, 'dielectric_characteristic': 'SD', 'capacitance': 4.7e-09, 'capacitance_tolerance': '10%', 'size_thickness': '0.8 mm', 'special_code': '-', 'packaging_code': 'T', 'manufacturer': 'Taiyo Yuden'}\n",
      "<Part mpn=GCM188R91H472KA37D> 2800 {'manufacturer_series': 'GCM', 'case_package': '0603', 'size_thickness': '0.8 mm', 'dielectric_characteristic': 'X8R', 'voltage_rating_dc': 50, 'capacitance': 4.7e-09, 'capacitance_tolerance': '10%', 'spec_code': 'A37', 'packaging_code': 'D', 'manufacturer': 'Murata'}\n",
      "<Part mpn=C0603X472J1GACTU> 2676 {'case_package': '0603', 'manufacturer_series': 'X', 'capacitance': 4.7e-09, 'capacitance_tolerance': '5%', 'voltage_rating_dc': 100, 'dielectric_characteristic': 'C0G/NP0', 'reliability_code': 'A', 'plating_code': 'C', 'packaging_code': 'TU', 'manufacturer': 'Kemet'}\n",
      "<Part mpn=C0603C472J5RACAUTO> 2200 {'case_package': '0603', 'manufacturer_series': 'C', 'capacitance': 4.7e-09, 'capacitance_tolerance': '5%', 'voltage_rating_dc': 50, 'dielectric_characteristic': 'X7R', 'reliability_code': 'A', 'plating_code': 'C', 'packaging_code': 'AUTO', 'manufacturer': 'Kemet'}\n",
      "<Part mpn=CC0603KRX7R8BB472> 1489 {'manufacturer_series': 'CC', 'case_package': '0603', 'capacitance_tolerance': '10%', 'packaging_code': 'R', 'dielectric_characteristic': 'X7R', 'voltage_rating_dc': 25, 'plating_code': 'B', 'process_code': 'B', 'capacitance': 4.7e-09, 'manufacturer': 'Yageo'}\n",
      "<Part mpn=C0603C472J3GACTU> 1101 {'case_package': '0603', 'manufacturer_series': 'C', 'capacitance': 4.7e-09, 'capacitance_tolerance': '5%', 'voltage_rating_dc': 25, 'dielectric_characteristic': 'C0G/NP0', 'reliability_code': 'A', 'plating_code': 'C', 'packaging_code': 'TU', 'manufacturer': 'Kemet'}\n",
      "<Part mpn=06035C472K4T2A> 966 {'case_package': '0603', 'voltage_rating_dc': 50, 'dielectric_characteristic': 'X7R', 'capacitance': 4.7e-09, 'capacitance_tolerance': '10%', 'reliability_code': '4', 'plating_code': 'T', 'packaging_code': '2', 'special_code': 'A', 'manufacturer': 'AVX'}\n",
      "<Part mpn=ESD35C472K4T2A-18> 787 None\n",
      "<Part mpn=LD035C472KAB2A> 724 None\n",
      "<Part mpn=CC0603KRX7R0BB472> 512 None\n",
      "<Part mpn=C1608X8R1H472K080AA> 497 {'manufacturer_series': 'C', 'case_package': '0603', 'dielectric_characteristic': 'X8R', 'voltage_rating_dc': 50, 'capacitance': 4.7e-09, 'capacitance_tolerance': '10%', 'size_thickness': '080', 'packaging_code': 'A', 'control_code': 'A', 'manufacturer': 'TDK'}\n",
      "<Part mpn=C1608X7R2A472K080AA> 278 {'manufacturer_series': 'C', 'case_package': '0603', 'dielectric_characteristic': 'X7R', 'voltage_rating_dc': 100, 'capacitance': 4.7e-09, 'capacitance_tolerance': '10%', 'size_thickness': '080', 'packaging_code': 'A', 'control_code': 'A', 'manufacturer': 'TDK'}\n",
      "<Part mpn=C0603C472K5RACAUTO> 165 {'case_package': '0603', 'manufacturer_series': 'C', 'capacitance': 4.7e-09, 'capacitance_tolerance': '10%', 'voltage_rating_dc': 50, 'dielectric_characteristic': 'X7R', 'reliability_code': 'A', 'plating_code': 'C', 'packaging_code': 'AUTO', 'manufacturer': 'Kemet'}\n",
      "<Part mpn=CL10B472JB8NNNC> 152 {'manufacturer_series': 'CL', 'case_package': '0603', 'dielectric_characteristic': 'X7R', 'capacitance': 4.7e-09, 'capacitance_tolerance': '5%', 'voltage_rating_dc': 50, 'size_thickness': '0.8 mm', 'plating_code': 'N', 'control_code': 'N', 'packaging_code': 'C', 'manufacturer': 'Samsung'}\n",
      "<Part mpn=06031C472KAT2A> 42 {'case_package': '0603', 'voltage_rating_dc': 100, 'dielectric_characteristic': 'X7R', 'capacitance': 4.7e-09, 'capacitance_tolerance': '10%', 'reliability_code': 'A', 'plating_code': 'T', 'packaging_code': '2', 'special_code': 'A', 'manufacturer': 'AVX'}\n",
      "<Part mpn=06035F472K4T2A> 38 {'case_package': '0603', 'voltage_rating_dc': 50, 'dielectric_characteristic': 'X8R', 'capacitance': 4.7e-09, 'capacitance_tolerance': '10%', 'reliability_code': '4', 'plating_code': 'T', 'packaging_code': '2', 'special_code': 'A', 'manufacturer': 'AVX'}\n",
      "<Part mpn=GRM188R72A472KA01D> 18 {'manufacturer_series': 'GRM', 'case_package': '0603', 'size_thickness': '0.8 mm', 'dielectric_characteristic': 'X7R', 'voltage_rating_dc': 100, 'capacitance': 4.7e-09, 'capacitance_tolerance': '10%', 'spec_code': 'A01', 'packaging_code': 'D', 'manufacturer': 'Murata'}\n",
      "<Part mpn=C0603X472K5RACAUTO> 8 {'case_package': '0603', 'manufacturer_series': 'X', 'capacitance': 4.7e-09, 'capacitance_tolerance': '10%', 'voltage_rating_dc': 50, 'dielectric_characteristic': 'X7R', 'reliability_code': 'A', 'plating_code': 'C', 'packaging_code': 'AUTO', 'manufacturer': 'Kemet'}\n",
      "<Part mpn=0603YC472KAT2A> 7 {'case_package': '0603', 'voltage_rating_dc': 16, 'dielectric_characteristic': 'X7R', 'capacitance': 4.7e-09, 'capacitance_tolerance': '10%', 'reliability_code': 'A', 'plating_code': 'T', 'packaging_code': '2', 'special_code': 'A', 'manufacturer': 'AVX'}\n",
      "<Part mpn=CC0603JRX7R9BB472> 5 {'manufacturer_series': 'CC', 'case_package': '0603', 'capacitance_tolerance': '5%', 'packaging_code': 'R', 'dielectric_characteristic': 'X7R', 'voltage_rating_dc': 50, 'plating_code': 'B', 'process_code': 'B', 'capacitance': 4.7e-09, 'manufacturer': 'Yageo'}\n",
      "<Part mpn=GRM188R71H472KA01D> 3 {'manufacturer_series': 'GRM', 'case_package': '0603', 'size_thickness': '0.8 mm', 'dielectric_characteristic': 'X7R', 'voltage_rating_dc': 50, 'capacitance': 4.7e-09, 'capacitance_tolerance': '10%', 'spec_code': 'A01', 'packaging_code': 'D', 'manufacturer': 'Murata'}\n",
      "<Part mpn=06035C472KAT2A> 0 {'case_package': '0603', 'voltage_rating_dc': 50, 'dielectric_characteristic': 'X7R', 'capacitance': 4.7e-09, 'capacitance_tolerance': '10%', 'reliability_code': 'A', 'plating_code': 'T', 'packaging_code': '2', 'special_code': 'A', 'manufacturer': 'AVX'}\n",
      "<Part mpn=CC0603KRX7R9BB472> 0 {'manufacturer_series': 'CC', 'case_package': '0603', 'capacitance_tolerance': '10%', 'packaging_code': 'R', 'dielectric_characteristic': 'X7R', 'voltage_rating_dc': 50, 'plating_code': 'B', 'process_code': 'B', 'capacitance': 4.7e-09, 'manufacturer': 'Yageo'}\n",
      "<Part mpn=C0603C472K1RALTU> 0 {'case_package': '0603', 'manufacturer_series': 'C', 'capacitance': 4.7e-09, 'capacitance_tolerance': '10%', 'voltage_rating_dc': 100, 'dielectric_characteristic': 'X7R', 'reliability_code': 'A', 'plating_code': 'L', 'packaging_code': 'TU', 'manufacturer': 'Kemet'}\n",
      "<Part mpn=C0603C472K5RALTU> 0 {'case_package': '0603', 'manufacturer_series': 'C', 'capacitance': 4.7e-09, 'capacitance_tolerance': '10%', 'voltage_rating_dc': 50, 'dielectric_characteristic': 'X7R', 'reliability_code': 'A', 'plating_code': 'L', 'packaging_code': 'TU', 'manufacturer': 'Kemet'}\n",
      "<Part mpn=06035C472MAT2A> 0 {'case_package': '0603', 'voltage_rating_dc': 50, 'dielectric_characteristic': 'X7R', 'capacitance': 4.7e-09, 'capacitance_tolerance': '20%', 'reliability_code': 'A', 'plating_code': 'T', 'packaging_code': '2', 'special_code': 'A', 'manufacturer': 'AVX'}\n",
      "<Part mpn=0603YC472JAT2A> 0 {'case_package': '0603', 'voltage_rating_dc': 16, 'dielectric_characteristic': 'X7R', 'capacitance': 4.7e-09, 'capacitance_tolerance': '5%', 'reliability_code': 'A', 'plating_code': 'T', 'packaging_code': '2', 'special_code': 'A', 'manufacturer': 'AVX'}\n",
      "<Part mpn=06035C472KAT4A> 0 {'case_package': '0603', 'voltage_rating_dc': 50, 'dielectric_characteristic': 'X7R', 'capacitance': 4.7e-09, 'capacitance_tolerance': '10%', 'reliability_code': 'A', 'plating_code': 'T', 'packaging_code': '4', 'special_code': 'A', 'manufacturer': 'AVX'}\n",
      "<Part mpn=CC0603KPX7R9BB472> 0 {'manufacturer_series': 'CC', 'case_package': '0603', 'capacitance_tolerance': '10%', 'packaging_code': 'P', 'dielectric_characteristic': 'X7R', 'voltage_rating_dc': 50, 'plating_code': 'B', 'process_code': 'B', 'capacitance': 4.7e-09, 'manufacturer': 'Yageo'}\n",
      "<Part mpn=06035C472JAT4A> 0 {'case_package': '0603', 'voltage_rating_dc': 50, 'dielectric_characteristic': 'X7R', 'capacitance': 4.7e-09, 'capacitance_tolerance': '5%', 'reliability_code': 'A', 'plating_code': 'T', 'packaging_code': '4', 'special_code': 'A', 'manufacturer': 'AVX'}\n",
      "<Part mpn=C0603X472K2RACTU> 0 {'case_package': '0603', 'manufacturer_series': 'X', 'capacitance': 4.7e-09, 'capacitance_tolerance': '10%', 'voltage_rating_dc': 200, 'dielectric_characteristic': 'X7R', 'reliability_code': 'A', 'plating_code': 'C', 'packaging_code': 'TU', 'manufacturer': 'Kemet'}\n",
      "<Part mpn=GRM188R71E472KA01D> 0 {'manufacturer_series': 'GRM', 'case_package': '0603', 'size_thickness': '0.8 mm', 'dielectric_characteristic': 'X7R', 'voltage_rating_dc': 25, 'capacitance': 4.7e-09, 'capacitance_tolerance': '10%', 'spec_code': 'A01', 'packaging_code': 'D', 'manufacturer': 'Murata'}\n",
      "<Part mpn=CC0603JRX7R8BB472> 0 {'manufacturer_series': 'CC', 'case_package': '0603', 'capacitance_tolerance': '5%', 'packaging_code': 'R', 'dielectric_characteristic': 'X7R', 'voltage_rating_dc': 25, 'plating_code': 'B', 'process_code': 'B', 'capacitance': 4.7e-09, 'manufacturer': 'Yageo'}\n",
      "<Part mpn=LD035C472JAB2A> 0 None\n",
      "<Part mpn=06033C472MAT2A> 0 {'case_package': '0603', 'voltage_rating_dc': 25, 'dielectric_characteristic': 'X7R', 'capacitance': 4.7e-09, 'capacitance_tolerance': '20%', 'reliability_code': 'A', 'plating_code': 'T', 'packaging_code': '2', 'special_code': 'A', 'manufacturer': 'AVX'}\n"
     ]
    }
   ],
   "source": [
    "for p in sorted_parts:\n",
    "    print(p, authorized_in_stock_qty(p), scottopart.mpnmagic.capacitors.parse_mpn(p.mpn))"
   ]
  },
  {
   "cell_type": "code",
   "execution_count": 169,
   "metadata": {},
   "outputs": [],
   "source": [
    "p = r.parts[0] # for testing"
   ]
  },
  {
   "cell_type": "code",
   "execution_count": 172,
   "metadata": {},
   "outputs": [
    {
     "data": {
      "text/plain": [
       "{'USD': {1: 0.1, 10: 0.04, 100: 0.0176, 500: 0.0126, 1000: 0.0099}}"
      ]
     },
     "execution_count": 172,
     "metadata": {},
     "output_type": "execute_result"
    }
   ],
   "source": [
    "p.offers[0].prices"
   ]
  },
  {
   "cell_type": "code",
   "execution_count": 116,
   "metadata": {},
   "outputs": [
    {
     "data": {
      "text/plain": [
       "{'case_package': '0603',\n",
       " 'voltage_rating_dc': 100,\n",
       " 'dielectric_characteristic': 'X7R',\n",
       " 'capacitance': 4.7e-09,\n",
       " 'capacitance_tolerance': '10%',\n",
       " 'reliability_code': 'A',\n",
       " 'plating_code': 'Z',\n",
       " 'packaging_code': '2',\n",
       " 'special_code': 'A',\n",
       " 'manufacturer': 'AVX'}"
      ]
     },
     "execution_count": 116,
     "metadata": {},
     "output_type": "execute_result"
    }
   ],
   "source": [
    "parsed_parts[10]"
   ]
  },
  {
   "cell_type": "code",
   "execution_count": 158,
   "metadata": {},
   "outputs": [],
   "source": [
    "# filter the part offers\n",
    "filtered_offers = [o for o in p.offers if o.seller in authorized_sellers and o.packaging in authorized_packaging]"
   ]
  },
  {
   "cell_type": "code",
   "execution_count": 160,
   "metadata": {},
   "outputs": [],
   "source": [
    "authorized_in_stock_qty = sum([o.in_stock_quantity for o in filtered_offers])"
   ]
  },
  {
   "cell_type": "code",
   "execution_count": 161,
   "metadata": {},
   "outputs": [
    {
     "data": {
      "text/plain": [
       "106216"
      ]
     },
     "execution_count": 161,
     "metadata": {},
     "output_type": "execute_result"
    }
   ],
   "source": [
    "authorized_in_stock_qty"
   ]
  },
  {
   "cell_type": "code",
   "execution_count": 152,
   "metadata": {},
   "outputs": [
    {
     "data": {
      "text/plain": [
       "'Cut Tape'"
      ]
     },
     "execution_count": 152,
     "metadata": {},
     "output_type": "execute_result"
    }
   ],
   "source": [
    "filtered_o[2].packaging"
   ]
  },
  {
   "cell_type": "code",
   "execution_count": 173,
   "metadata": {},
   "outputs": [],
   "source": [
    "import pandas as pd"
   ]
  },
  {
   "cell_type": "code",
   "execution_count": 174,
   "metadata": {},
   "outputs": [],
   "source": [
    "df = pd.DataFrame()"
   ]
  },
  {
   "cell_type": "code",
   "execution_count": 181,
   "metadata": {},
   "outputs": [],
   "source": [
    "df = df.append({'Manufacturer': \"TDK\", 'Key2' : 'val3'}, ignore_index=True)"
   ]
  },
  {
   "cell_type": "code",
   "execution_count": 184,
   "metadata": {},
   "outputs": [
    {
     "data": {
      "text/html": [
       "<div>\n",
       "<style scoped>\n",
       "    .dataframe tbody tr th:only-of-type {\n",
       "        vertical-align: middle;\n",
       "    }\n",
       "\n",
       "    .dataframe tbody tr th {\n",
       "        vertical-align: top;\n",
       "    }\n",
       "\n",
       "    .dataframe thead th {\n",
       "        text-align: right;\n",
       "    }\n",
       "</style>\n",
       "<table border=\"1\" class=\"dataframe\">\n",
       "  <thead>\n",
       "    <tr style=\"text-align: right;\">\n",
       "      <th></th>\n",
       "      <th>Key2</th>\n",
       "      <th>Manufacturer</th>\n",
       "    </tr>\n",
       "  </thead>\n",
       "  <tbody>\n",
       "    <tr>\n",
       "      <th>0</th>\n",
       "      <td>val2</td>\n",
       "      <td>Murata</td>\n",
       "    </tr>\n",
       "    <tr>\n",
       "      <th>1</th>\n",
       "      <td>val3</td>\n",
       "      <td>TDK</td>\n",
       "    </tr>\n",
       "  </tbody>\n",
       "</table>\n",
       "</div>"
      ],
      "text/plain": [
       "   Key2 Manufacturer\n",
       "0  val2       Murata\n",
       "1  val3          TDK"
      ]
     },
     "execution_count": 184,
     "metadata": {},
     "output_type": "execute_result"
    }
   ],
   "source": [
    "df"
   ]
  },
  {
   "cell_type": "code",
   "execution_count": 196,
   "metadata": {},
   "outputs": [
    {
     "data": {
      "text/plain": [
       "[<Part mpn=06031C472JAT2A>,\n",
       " <Part mpn=06031C472K4T2A>,\n",
       " <Part mpn=06031C472K4Z2A>,\n",
       " <Part mpn=06031C472KAT2A>,\n",
       " <Part mpn=06031C472KAZ2A>,\n",
       " <Part mpn=06031C472MAT2A>,\n",
       " <Part mpn=06033C472JAT2A>,\n",
       " <Part mpn=06033C472KAT2A>,\n",
       " <Part mpn=06033C472MAT2A>,\n",
       " <Part mpn=06035C472JAT2A>,\n",
       " <Part mpn=06035C472JAT4A>,\n",
       " <Part mpn=06035C472K4T2A>,\n",
       " <Part mpn=06035C472K4T4A>,\n",
       " <Part mpn=06035C472K4Z2A>,\n",
       " <Part mpn=06035C472KAT2A>,\n",
       " <Part mpn=06035C472KAT4A>,\n",
       " <Part mpn=06035C472KAZ2A>,\n",
       " <Part mpn=06035C472MAT2A>,\n",
       " <Part mpn=06035F472K4T2A>,\n",
       " <Part mpn=0603YC472JAT2A>,\n",
       " <Part mpn=0603YC472KAT2A>,\n",
       " <Part mpn=0603ZC472MAT2A>,\n",
       " <Part mpn=C0603C472F3GACTU>,\n",
       " <Part mpn=C0603C472F5GACTU>,\n",
       " <Part mpn=C0603C472G5GACTU>,\n",
       " <Part mpn=C0603C472J1GACAUTO>,\n",
       " <Part mpn=C0603C472J1GACTU>,\n",
       " <Part mpn=C0603C472J1HACTU>,\n",
       " <Part mpn=C0603C472J1RACTU>,\n",
       " <Part mpn=C0603C472J3GACTU>,\n",
       " <Part mpn=C0603C472J5GACAUTO>,\n",
       " <Part mpn=C0603C472J5GACTU>,\n",
       " <Part mpn=C0603C472J5RACAUTO>,\n",
       " <Part mpn=C0603C472J5RACTU>,\n",
       " <Part mpn=C0603C472K1RACAUTO>,\n",
       " <Part mpn=C0603C472K1RACTU>,\n",
       " <Part mpn=C0603C472K1RALTU>,\n",
       " <Part mpn=C0603C472K2RACAUTO>,\n",
       " <Part mpn=C0603C472K2RACTU>,\n",
       " <Part mpn=C0603C472K3RACTU>,\n",
       " <Part mpn=C0603C472K4RACTU>,\n",
       " <Part mpn=C0603C472K5GACTU>,\n",
       " <Part mpn=C0603C472K5HACAUTO>,\n",
       " <Part mpn=C0603C472K5HACTU>,\n",
       " <Part mpn=C0603C472K5RAC7411>,\n",
       " <Part mpn=C0603C472K5RACAUTO>,\n",
       " <Part mpn=C0603C472K5RACTU>,\n",
       " <Part mpn=C0603C472K5RALTU>,\n",
       " <Part mpn=C0603C472K8RACTU>,\n",
       " <Part mpn=C0603C472KARACAUTO>,\n",
       " <Part mpn=C0603C472M5RACTU>,\n",
       " <Part mpn=C0603H472J1GACTU>,\n",
       " <Part mpn=C0603S472J5RACTU>,\n",
       " <Part mpn=C0603S472K3RACTU>,\n",
       " <Part mpn=C0603X472J1GACTU>,\n",
       " <Part mpn=C0603X472K1RACAUTO>,\n",
       " <Part mpn=C0603X472K2RACTU>,\n",
       " <Part mpn=C0603X472K5RACAUTO>,\n",
       " <Part mpn=C0603X472K5RACTU>,\n",
       " <Part mpn=C0603Y472K2RACTU>,\n",
       " <Part mpn=C1608C0G1E472J080AA>,\n",
       " <Part mpn=C1608C0G1H472J080AA>,\n",
       " <Part mpn=C1608CH1H472J080AA>,\n",
       " <Part mpn=C1608X7R2A472K080AA>,\n",
       " <Part mpn=C1608X8R1H472K080AA>,\n",
       " <Part mpn=CC0603JRX7R8BB472>,\n",
       " <Part mpn=CC0603JRX7R9BB472>,\n",
       " <Part mpn=CC0603KPX7R9BB472>,\n",
       " <Part mpn=CC0603KRX7R0BB472>,\n",
       " <Part mpn=CC0603KRX7R8BB472>,\n",
       " <Part mpn=CC0603KRX7R9BB472>,\n",
       " <Part mpn=CC0603MRX7R9BB472>,\n",
       " <Part mpn=CEU3E2X7R1H472K080AE>,\n",
       " <Part mpn=CGA3E2C0G1H472J080AA>,\n",
       " <Part mpn=CGA3E2X7R1H472K080AA>,\n",
       " <Part mpn=CGA3E2X7R2A472K080AA>,\n",
       " <Part mpn=CL10B472JB8NNNC>,\n",
       " <Part mpn=CL10B472KB8NNNC>,\n",
       " <Part mpn=ESD35C472K4T2A-18>,\n",
       " <Part mpn=GCJ188R71H472KA01D>,\n",
       " <Part mpn=GCM033R71A472KA03D>,\n",
       " <Part mpn=GCM188R71H472KA37D>,\n",
       " <Part mpn=GCM188R71H472KA37J>,\n",
       " <Part mpn=GCM188R72A472KA37D>,\n",
       " <Part mpn=GCM188R91H472KA37D>,\n",
       " <Part mpn=GRM033R61A472KA01D>,\n",
       " <Part mpn=GRM033R61E472KA12D>,\n",
       " <Part mpn=GRM033R70J472KA01D>,\n",
       " <Part mpn=GRM033R71A472KA01D>,\n",
       " <Part mpn=GRM1857U1H472JA44D>,\n",
       " <Part mpn=GRM1885C1H472JA01D>,\n",
       " <Part mpn=GRM1887U1H472JA01D>,\n",
       " <Part mpn=GRM188R71E472KA01D>,\n",
       " <Part mpn=GRM188R71H472KA01D>,\n",
       " <Part mpn=GRM188R72A472KA01D>,\n",
       " <Part mpn=HMK107B7472KA-T>,\n",
       " <Part mpn=LD035C472JAB2A>,\n",
       " <Part mpn=LD035C472KAB2A>,\n",
       " <Part mpn=LLL185R71H472MA01L>,\n",
       " <Part mpn=TMK107SD472KA-T>]"
      ]
     },
     "execution_count": 196,
     "metadata": {},
     "output_type": "execute_result"
    }
   ],
   "source": [
    "sorted(r.parts, key = lambda x: x.mpn)"
   ]
  },
  {
   "cell_type": "code",
   "execution_count": 214,
   "metadata": {},
   "outputs": [
    {
     "data": {
      "text/plain": [
       "172595"
      ]
     },
     "execution_count": 214,
     "metadata": {},
     "output_type": "execute_result"
    }
   ],
   "source": [
    "authorized_in_stock_qty(r.parts[1])"
   ]
  },
  {
   "cell_type": "code",
   "execution_count": 218,
   "metadata": {},
   "outputs": [
    {
     "data": {
      "text/plain": [
       "[<Part mpn=C0603C472K5RACTU>,\n",
       " <Part mpn=C0603C472J5RACTU>,\n",
       " <Part mpn=C0603C472J5GACTU>,\n",
       " <Part mpn=C0603C472K1RACTU>,\n",
       " <Part mpn=C0603C472K2RACTU>,\n",
       " <Part mpn=06031C472KAT2A>,\n",
       " <Part mpn=C0603C472F5GACTU>,\n",
       " <Part mpn=C0603C472J1GACTU>,\n",
       " <Part mpn=06035C472KAT2A>,\n",
       " <Part mpn=C1608C0G1H472J080AA>,\n",
       " <Part mpn=06031C472KAZ2A>,\n",
       " <Part mpn=06035C472JAT2A>,\n",
       " <Part mpn=C0603C472K4RACTU>,\n",
       " <Part mpn=C0603C472K3RACTU>,\n",
       " <Part mpn=06031C472JAT2A>,\n",
       " <Part mpn=C0603C472J3GACTU>,\n",
       " <Part mpn=C0603C472K5RACAUTO>,\n",
       " <Part mpn=GRM1885C1H472JA01D>,\n",
       " <Part mpn=06031C472K4T2A>,\n",
       " <Part mpn=C0603X472K5RACTU>,\n",
       " <Part mpn=CL10B472KB8NNNC>,\n",
       " <Part mpn=CC0603KRX7R9BB472>,\n",
       " <Part mpn=CGA3E2X7R1H472K080AA>,\n",
       " <Part mpn=GRM033R71A472KA01D>,\n",
       " <Part mpn=C0603C472K2RACAUTO>,\n",
       " <Part mpn=ESD35C472K4T2A-18>,\n",
       " <Part mpn=06035F472K4T2A>,\n",
       " <Part mpn=CGA3E2C0G1H472J080AA>,\n",
       " <Part mpn=06035C472KAZ2A>,\n",
       " <Part mpn=C0603C472K8RACTU>,\n",
       " <Part mpn=C0603C472F3GACTU>,\n",
       " <Part mpn=C0603C472K1RACAUTO>,\n",
       " <Part mpn=GRM188R72A472KA01D>,\n",
       " <Part mpn=GCM188R72A472KA37D>,\n",
       " <Part mpn=GCM188R71H472KA37D>,\n",
       " <Part mpn=GRM188R71H472KA01D>,\n",
       " <Part mpn=06035C472K4T4A>,\n",
       " <Part mpn=0603YC472KAT2A>,\n",
       " <Part mpn=C0603C472K5HACAUTO>,\n",
       " <Part mpn=C0603C472KARACAUTO>,\n",
       " <Part mpn=C0603C472K5HACTU>,\n",
       " <Part mpn=C0603C472J1RACTU>,\n",
       " <Part mpn=C1608X7R2A472K080AA>,\n",
       " <Part mpn=GRM033R61A472KA01D>,\n",
       " <Part mpn=06035C472K4T2A>,\n",
       " <Part mpn=06035C472K4Z2A>,\n",
       " <Part mpn=CC0603KRX7R0BB472>,\n",
       " <Part mpn=C0603C472K5GACTU>,\n",
       " <Part mpn=06033C472KAT2A>,\n",
       " <Part mpn=LLL185R71H472MA01L>,\n",
       " <Part mpn=06033C472JAT2A>,\n",
       " <Part mpn=C0603C472J5GACAUTO>,\n",
       " <Part mpn=CEU3E2X7R1H472K080AE>,\n",
       " <Part mpn=C0603X472K5RACAUTO>,\n",
       " <Part mpn=C0603C472K5RAC7411>,\n",
       " <Part mpn=CGA3E2X7R2A472K080AA>,\n",
       " <Part mpn=GRM1887U1H472JA01D>,\n",
       " <Part mpn=C0603X472J1GACTU>,\n",
       " <Part mpn=C0603C472J1HACTU>,\n",
       " <Part mpn=C0603C472K1RALTU>,\n",
       " <Part mpn=CC0603KRX7R8BB472>,\n",
       " <Part mpn=C0603C472K5RALTU>,\n",
       " <Part mpn=GRM033R61E472KA12D>,\n",
       " <Part mpn=GRM033R70J472KA01D>,\n",
       " <Part mpn=CL10B472JB8NNNC>,\n",
       " <Part mpn=C1608C0G1E472J080AA>,\n",
       " <Part mpn=C0603C472M5RACTU>,\n",
       " <Part mpn=06035C472MAT2A>,\n",
       " <Part mpn=C0603Y472K2RACTU>,\n",
       " <Part mpn=C0603C472J1GACAUTO>,\n",
       " <Part mpn=C0603S472J5RACTU>,\n",
       " <Part mpn=TMK107SD472KA-T>,\n",
       " <Part mpn=HMK107B7472KA-T>,\n",
       " <Part mpn=C0603H472J1GACTU>,\n",
       " <Part mpn=C1608X8R1H472K080AA>,\n",
       " <Part mpn=LD035C472KAB2A>,\n",
       " <Part mpn=C0603C472J5RACAUTO>,\n",
       " <Part mpn=0603YC472JAT2A>,\n",
       " <Part mpn=06035C472KAT4A>,\n",
       " <Part mpn=GCM188R71H472KA37J>,\n",
       " <Part mpn=CC0603KPX7R9BB472>,\n",
       " <Part mpn=GCM188R91H472KA37D>,\n",
       " <Part mpn=CC0603JRX7R9BB472>,\n",
       " <Part mpn=GCM033R71A472KA03D>,\n",
       " <Part mpn=GCJ188R71H472KA01D>,\n",
       " <Part mpn=0603ZC472MAT2A>,\n",
       " <Part mpn=06035C472JAT4A>,\n",
       " <Part mpn=06031C472K4Z2A>,\n",
       " <Part mpn=06031C472MAT2A>,\n",
       " <Part mpn=C0603X472K2RACTU>,\n",
       " <Part mpn=C0603X472K1RACAUTO>,\n",
       " <Part mpn=GRM1857U1H472JA44D>,\n",
       " <Part mpn=C0603S472K3RACTU>,\n",
       " <Part mpn=GRM188R71E472KA01D>,\n",
       " <Part mpn=C1608CH1H472J080AA>,\n",
       " <Part mpn=CC0603JRX7R8BB472>,\n",
       " <Part mpn=C0603C472G5GACTU>,\n",
       " <Part mpn=LD035C472JAB2A>,\n",
       " <Part mpn=06033C472MAT2A>,\n",
       " <Part mpn=CC0603MRX7R9BB472>]"
      ]
     },
     "execution_count": 218,
     "metadata": {},
     "output_type": "execute_result"
    }
   ],
   "source": [
    "r.parts"
   ]
  },
  {
   "cell_type": "code",
   "execution_count": 226,
   "metadata": {},
   "outputs": [
    {
     "data": {
      "text/plain": [
       "octopart.models.Part"
      ]
     },
     "execution_count": 226,
     "metadata": {},
     "output_type": "execute_result"
    }
   ],
   "source": [
    "p.__class__"
   ]
  },
  {
   "cell_type": "code",
   "execution_count": 240,
   "metadata": {},
   "outputs": [
    {
     "data": {
      "text/plain": [
       "{'case_package': '0603',\n",
       " 'manufacturer_series': 'H',\n",
       " 'capacitance': 4.7e-09,\n",
       " 'capacitance_tolerance': '5%',\n",
       " 'voltage_rating_dc': 100,\n",
       " 'dielectric_characteristic': 'C0G/NP0',\n",
       " 'reliability_code': 'A',\n",
       " 'plating_code': 'C',\n",
       " 'packaging_code': 'TU',\n",
       " 'manufacturer': 'Kemet'}"
      ]
     },
     "execution_count": 240,
     "metadata": {},
     "output_type": "execute_result"
    }
   ],
   "source": [
    "scottopart.mpnmagic.capacitors.parse_mpn('C0603H472J1GACTU')"
   ]
  },
  {
   "cell_type": "code",
   "execution_count": null,
   "metadata": {},
   "outputs": [],
   "source": []
  }
 ],
 "metadata": {
  "kernelspec": {
   "display_name": "Python 3",
   "language": "python",
   "name": "python3"
  },
  "language_info": {
   "codemirror_mode": {
    "name": "ipython",
    "version": 3
   },
   "file_extension": ".py",
   "mimetype": "text/x-python",
   "name": "python",
   "nbconvert_exporter": "python",
   "pygments_lexer": "ipython3",
   "version": "3.7.0"
  }
 },
 "nbformat": 4,
 "nbformat_minor": 2
}
