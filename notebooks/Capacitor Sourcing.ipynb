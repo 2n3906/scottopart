{
 "cells": [
  {
   "cell_type": "markdown",
   "metadata": {},
   "source": [
    "# Capacitor sourcing workbook\n",
    "\n",
    "Use this workflow to build a robust standard capacitor library that is resilient to marketplace fluctuation."
   ]
  },
  {
   "cell_type": "code",
   "execution_count": 39,
   "metadata": {},
   "outputs": [
    {
     "name": "stdout",
     "output_type": "stream",
     "text": [
      "The autoreload extension is already loaded. To reload it, use:\n",
      "  %reload_ext autoreload\n"
     ]
    }
   ],
   "source": [
    "%load_ext autoreload\n",
    "import sys\n",
    "import octopart\n",
    "sys.path.append(\"../\")\n",
    "import scottopart.constants\n",
    "\n",
    "octopart.logger.setLevel(20)  # disable annoying debug logs"
   ]
  },
  {
   "cell_type": "code",
   "execution_count": 50,
   "metadata": {},
   "outputs": [
    {
     "name": "stdout",
     "output_type": "stream",
     "text": [
      "0603 4.7e-09\n"
     ]
    }
   ],
   "source": [
    "authorized_capacitor_manufacturers = ['TDK', 'Murata', 'Yageo', 'KEMET', 'Taiyo Yuden', 'Samsung', 'AVX']\n",
    "authorized_sellers = ['Digi-Key', 'Newark', 'Mouser', 'Avnet', 'Arrow Electronics, Inc.']\n",
    "authorized_country_codes = ['US']\n",
    "authorized_packaging = ['Cut Tape', 'Tape & Reel', 'None']\n",
    "query_package = ['0603']\n",
    "query_capacitance = [4.7e-9]\n",
    "\n",
    "for case_package in query_package:\n",
    "    for capacitance in query_capacitance:\n",
    "        print(case_package, capacitance)"
   ]
  },
  {
   "cell_type": "code",
   "execution_count": 49,
   "metadata": {},
   "outputs": [],
   "source": [
    "# legacy search to replicate:\n",
    "#    payload = {\n",
    "#        'apikey': octopart_api_key,\n",
    "#        'q': '', # leave blank\n",
    "#        'filter[fields][manufacturer.displayname][]': authorized_capacitor_manufacturers,\n",
    "#        'filter[fields][specs.capacitance.value][]': capacitance,\n",
    "#        'filter[fields][specs.case_package.value][]': case_package,\n",
    "#        'limit' : 100,\n",
    "#        'include[]' : 'specs',\n",
    "#    }\n"
   ]
  },
  {
   "cell_type": "code",
   "execution_count": 78,
   "metadata": {},
   "outputs": [
    {
     "name": "stderr",
     "output_type": "stream",
     "text": [
      "2018-08-25 14:34:57,081 - octopart.client - DEBUG: Requested Octopart URI: https://octopart.com/api/v3/parts/search?q=&start=0&limit=100&filter%5Bfields%5D%5Bmanufacturer.displayname%5D%5B%5D=%28TDK+Murata%29&filter%5Bfields%5D%5Bspecs.case_package.value%5D%5B%5D=0603&filter%5Bfields%5D%5Bspecs.capacitance.value%5D%5B%5D=4.7e-9&include%5B%5D=specs&apikey=c59ed28d\n"
     ]
    }
   ],
   "source": [
    "filter = {\n",
    "    'manufacturer.displayname' : '(TDK Murata)',\n",
    "    'specs.case_package.value' : '0603',\n",
    "    'specs.capacitance.value'  : '4.7e-9'\n",
    "}\n",
    "r = octopart.search(query='', limit=100, filter_fields=filter, include_specs=True)"
   ]
  },
  {
   "cell_type": "code",
   "execution_count": 80,
   "metadata": {},
   "outputs": [
    {
     "data": {
      "text/plain": [
       "<PartsSearchResult: hits=0>"
      ]
     },
     "execution_count": 80,
     "metadata": {},
     "output_type": "execute_result"
    }
   ],
   "source": [
    "r"
   ]
  },
  {
   "cell_type": "code",
   "execution_count": 69,
   "metadata": {},
   "outputs": [
    {
     "data": {
      "text/plain": [
       "{'capacitance': <Spec name=capacitance value=4.7e-09>,\n",
       " 'capacitance_tolerance': <Spec name=capacitance_tolerance value=±5%>,\n",
       " 'case_package': <Spec name=case_package value=['0603', '1608']>,\n",
       " 'case_package_si': <Spec name=case_package_si value=1608>,\n",
       " 'dielectric_characteristic': <Spec name=dielectric_characteristic value=C0G/NP0>,\n",
       " 'dielectric_material': <Spec name=dielectric_material value=Ceramic Multilayer>,\n",
       " 'lead_free_status': <Spec name=lead_free_status value=Lead Free>,\n",
       " 'mounting_style': <Spec name=mounting_style value=Surface Mount>,\n",
       " 'operating_temperature': <Spec name=operating_temperature value=[]>,\n",
       " 'packaging': <Spec name=packaging value=['Tape & Reel (TR)', 'Cut Tape (CT)']>,\n",
       " 'pin_count': <Spec name=pin_count value=2>,\n",
       " 'reach_svhc_compliance': <Spec name=reach_svhc_compliance value=No SVHC>,\n",
       " 'rohs_status': <Spec name=rohs_status value=Compliant>,\n",
       " 'size_length': <Spec name=size_length value=0.0016>,\n",
       " 'size_thickness': <Spec name=size_thickness value=0.0008>,\n",
       " 'size_width': <Spec name=size_width value=0.0008>,\n",
       " 'voltage_rating_dc': <Spec name=voltage_rating_dc value=50.0>}"
      ]
     },
     "execution_count": 69,
     "metadata": {},
     "output_type": "execute_result"
    }
   ],
   "source": [
    "p.specs"
   ]
  },
  {
   "cell_type": "code",
   "execution_count": 70,
   "metadata": {},
   "outputs": [],
   "source": [
    "from collections import defaultdict\n",
    "filter_dict = defaultdict(list)"
   ]
  },
  {
   "cell_type": "code",
   "execution_count": 71,
   "metadata": {},
   "outputs": [],
   "source": [
    "filter_dict = {\n",
    "    'manufacturer.displayname' : 'TDK',\n",
    "    'specs.case_package.value' : '0603',\n",
    "    'specs.capacitance.value'  : '4.7e-9'\n",
    "}"
   ]
  },
  {
   "cell_type": "code",
   "execution_count": 122,
   "metadata": {},
   "outputs": [],
   "source": [
    "# We would do this if we can, but the octopart Python API\n",
    "# won't accept a list for manufacturer.displayname.  So this\n",
    "# is a work-around.\n",
    "#filter = {\n",
    "#    'manufacturer.displayname' : ['Murata', 'TDK', 'etc.']\n",
    "#    'specs.case_package.value' : '0603',\n",
    "#    'specs.capacitance.value'  : '4.7e-9'\n",
    "#}\n",
    "#r = octopart.search(query='', limit=100, filter_fields=filter, include_specs=True)\n",
    "\n",
    "c = octopart.client.OctopartClient()\n",
    "params = {\n",
    "        'q': '', # leave blank\n",
    "        'filter[fields][manufacturer.displayname][]': authorized_capacitor_manufacturers,\n",
    "        'filter[fields][specs.capacitance.value][]': capacitance,\n",
    "        'filter[fields][specs.case_package.value][]': case_package,\n",
    "        'limit' : 100,\n",
    "        'include[]' : 'specs',\n",
    "}\n",
    "r = octopart.models.PartsSearchResult(c._request('/parts/search', params=params))"
   ]
  },
  {
   "cell_type": "code",
   "execution_count": 123,
   "metadata": {},
   "outputs": [
    {
     "data": {
      "text/plain": [
       "<PartsSearchResult: hits=522>"
      ]
     },
     "execution_count": 123,
     "metadata": {},
     "output_type": "execute_result"
    }
   ],
   "source": [
    "r"
   ]
  },
  {
   "cell_type": "code",
   "execution_count": 105,
   "metadata": {},
   "outputs": [],
   "source": [
    "from scottopart.mpnmagic.capacitors import parse_mpn"
   ]
  },
  {
   "cell_type": "code",
   "execution_count": 108,
   "metadata": {},
   "outputs": [],
   "source": [
    "parsed_parts = [parse_mpn(p.mpn) for p in r.parts]"
   ]
  },
  {
   "cell_type": "code",
   "execution_count": 116,
   "metadata": {},
   "outputs": [
    {
     "data": {
      "text/plain": [
       "{'case_package': '0603',\n",
       " 'voltage_rating_dc': 100,\n",
       " 'dielectric_characteristic': 'X7R',\n",
       " 'capacitance': 4.7e-09,\n",
       " 'capacitance_tolerance': '10%',\n",
       " 'reliability_code': 'A',\n",
       " 'plating_code': 'Z',\n",
       " 'packaging_code': '2',\n",
       " 'special_code': 'A',\n",
       " 'manufacturer': 'AVX'}"
      ]
     },
     "execution_count": 116,
     "metadata": {},
     "output_type": "execute_result"
    }
   ],
   "source": [
    "parsed_parts[10]"
   ]
  },
  {
   "cell_type": "code",
   "execution_count": 158,
   "metadata": {},
   "outputs": [],
   "source": [
    "# filter the part offers\n",
    "filtered_offers = [o for o in p.offers if o.seller in authorized_sellers and o.packaging in authorized_packaging]"
   ]
  },
  {
   "cell_type": "code",
   "execution_count": 160,
   "metadata": {},
   "outputs": [],
   "source": [
    "authorized_in_stock_qty = sum([o.in_stock_quantity for o in filtered_offers])"
   ]
  },
  {
   "cell_type": "code",
   "execution_count": 161,
   "metadata": {},
   "outputs": [
    {
     "data": {
      "text/plain": [
       "106216"
      ]
     },
     "execution_count": 161,
     "metadata": {},
     "output_type": "execute_result"
    }
   ],
   "source": [
    "authorized_in_stock_qty"
   ]
  },
  {
   "cell_type": "code",
   "execution_count": 143,
   "metadata": {},
   "outputs": [
    {
     "data": {
      "text/plain": [
       "['__class__',\n",
       " '__delattr__',\n",
       " '__dict__',\n",
       " '__dir__',\n",
       " '__doc__',\n",
       " '__eq__',\n",
       " '__format__',\n",
       " '__ge__',\n",
       " '__getattribute__',\n",
       " '__gt__',\n",
       " '__hash__',\n",
       " '__init__',\n",
       " '__init_subclass__',\n",
       " '__le__',\n",
       " '__lt__',\n",
       " '__module__',\n",
       " '__ne__',\n",
       " '__new__',\n",
       " '__reduce__',\n",
       " '__reduce_ex__',\n",
       " '__repr__',\n",
       " '__setattr__',\n",
       " '__sizeof__',\n",
       " '__str__',\n",
       " '__subclasshook__',\n",
       " '__weakref__',\n",
       " '_offer',\n",
       " 'in_stock_quantity',\n",
       " 'last_updated',\n",
       " 'moq',\n",
       " 'packaging',\n",
       " 'prices',\n",
       " 'product_url',\n",
       " 'seller',\n",
       " 'sku']"
      ]
     },
     "execution_count": 143,
     "metadata": {},
     "output_type": "execute_result"
    }
   ],
   "source": [
    "dir(p.offers[0])"
   ]
  },
  {
   "cell_type": "code",
   "execution_count": 148,
   "metadata": {},
   "outputs": [
    {
     "data": {
      "text/plain": [
       "1"
      ]
     },
     "execution_count": 148,
     "metadata": {},
     "output_type": "execute_result"
    }
   ],
   "source": [
    "p.offers[3].moq"
   ]
  },
  {
   "cell_type": "code",
   "execution_count": 152,
   "metadata": {},
   "outputs": [
    {
     "data": {
      "text/plain": [
       "'Cut Tape'"
      ]
     },
     "execution_count": 152,
     "metadata": {},
     "output_type": "execute_result"
    }
   ],
   "source": [
    "filtered_o[2].packaging"
   ]
  },
  {
   "cell_type": "code",
   "execution_count": null,
   "metadata": {},
   "outputs": [],
   "source": []
  }
 ],
 "metadata": {
  "kernelspec": {
   "display_name": "Python 3",
   "language": "python",
   "name": "python3"
  },
  "language_info": {
   "codemirror_mode": {
    "name": "ipython",
    "version": 3
   },
   "file_extension": ".py",
   "mimetype": "text/x-python",
   "name": "python",
   "nbconvert_exporter": "python",
   "pygments_lexer": "ipython3",
   "version": "3.7.0"
  }
 },
 "nbformat": 4,
 "nbformat_minor": 2
}
